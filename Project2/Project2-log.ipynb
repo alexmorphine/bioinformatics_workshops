{
 "cells": [
  {
   "cell_type": "code",
   "execution_count": null,
   "metadata": {},
   "outputs": [],
   "source": [
    "import pandas as pd"
   ]
  },
  {
   "cell_type": "code",
   "execution_count": 6,
   "metadata": {},
   "outputs": [
    {
     "name": "stdout",
     "output_type": "stream",
     "text": [
      "Read 358265 spots for SRR1705851\r\n",
      "Written 358265 spots for SRR1705851\r\n"
     ]
    }
   ],
   "source": [
    "# downoading fasta\n",
    "!fastq-dump SRR1705851"
   ]
  },
  {
   "cell_type": "code",
   "execution_count": 29,
   "metadata": {
    "scrolled": true
   },
   "outputs": [
    {
     "name": "stdout",
     "output_type": "stream",
     "text": [
      "Started analysis of SRR1705851.fastq\n",
      "Approx 5% complete for SRR1705851.fastq\n",
      "Approx 10% complete for SRR1705851.fastq\n",
      "Approx 15% complete for SRR1705851.fastq\n",
      "Approx 20% complete for SRR1705851.fastq\n",
      "Approx 25% complete for SRR1705851.fastq\n",
      "Approx 30% complete for SRR1705851.fastq\n",
      "Approx 35% complete for SRR1705851.fastq\n",
      "Approx 40% complete for SRR1705851.fastq\n",
      "Approx 45% complete for SRR1705851.fastq\n",
      "Approx 50% complete for SRR1705851.fastq\n",
      "Approx 55% complete for SRR1705851.fastq\n",
      "Approx 60% complete for SRR1705851.fastq\n",
      "Approx 65% complete for SRR1705851.fastq\n",
      "Approx 70% complete for SRR1705851.fastq\n",
      "Approx 75% complete for SRR1705851.fastq\n",
      "Approx 80% complete for SRR1705851.fastq\n",
      "Approx 85% complete for SRR1705851.fastq\n",
      "Approx 90% complete for SRR1705851.fastq\n",
      "Approx 95% complete for SRR1705851.fastq\n",
      "Analysis complete for SRR1705851.fastq\n"
     ]
    }
   ],
   "source": [
    "# quality check\n",
    "!fastqc -o . SRR1705851.fastq"
   ]
  },
  {
   "cell_type": "code",
   "execution_count": 2,
   "metadata": {},
   "outputs": [
    {
     "name": "stdout",
     "output_type": "stream",
     "text": [
      "[bwa_index] Pack FASTA... 0.00 sec\r\n",
      "[bwa_index] Construct BWT for the packed sequence...\r\n",
      "[bwa_index] 0.00 seconds elapse.\r\n",
      "[bwa_index] Update BWT... 0.00 sec\r\n",
      "[bwa_index] Pack forward-only FASTA... 0.00 sec\r\n",
      "[bwa_index] Construct SA from BWT and Occ... 0.00 sec\r\n",
      "[main] Version: 0.7.17-r1188\r\n",
      "[main] CMD: bwa index KF848938.1.fasta\r\n",
      "[main] Real time: 0.005 sec; CPU: 0.013 sec\r\n"
     ]
    }
   ],
   "source": [
    "# indexing reference\n",
    "!bwa index 'KF848938.1.fasta'"
   ]
  },
  {
   "cell_type": "code",
   "execution_count": 20,
   "metadata": {},
   "outputs": [
    {
     "name": "stdout",
     "output_type": "stream",
     "text": [
      "[M::bwa_idx_load_from_disk] read 0 ALT contigs\n",
      "[M::process] read 68388 sequences (10000129 bp)...\n",
      "[M::process] read 67628 sequences (10000233 bp)...\n",
      "[M::mem_process_seqs] Processed 68388 reads in 1.464 CPU sec, 1.408 real sec\n",
      "[M::process] read 67698 sequences (10000046 bp)...\n",
      "[M::mem_process_seqs] Processed 67628 reads in 1.139 CPU sec, 1.043 real sec\n",
      "[M::process] read 67652 sequences (10000169 bp)...\n",
      "[M::mem_process_seqs] Processed 67698 reads in 1.589 CPU sec, 1.493 real sec\n",
      "[M::process] read 68072 sequences (10000295 bp)...\n",
      "[M::mem_process_seqs] Processed 67652 reads in 1.514 CPU sec, 1.411 real sec\n",
      "[M::process] read 18827 sequences (2716992 bp)...\n",
      "[M::mem_process_seqs] Processed 68072 reads in 1.298 CPU sec, 1.236 real sec\n",
      "[M::mem_process_seqs] Processed 18827 reads in 0.628 CPU sec, 0.565 real sec\n",
      "[main] Version: 0.7.17-r1188\n",
      "[main] CMD: bwa mem KF848938.1.fasta SRR1705851.fastq\n",
      "[main] Real time: 7.320 sec; CPU: 7.721 sec\n"
     ]
    }
   ],
   "source": [
    "# Align reads to reference\n",
    "!bwa mem KF848938.1.fasta SRR1705851.fastq | samtools view -S -b - | samtools sort - -o alignment_sorted.bam"
   ]
  },
  {
   "cell_type": "code",
   "execution_count": 21,
   "metadata": {},
   "outputs": [],
   "source": [
    "# Indexing .bam file\n",
    "!samtools index alignment_sorted.bam"
   ]
  },
  {
   "cell_type": "code",
   "execution_count": 22,
   "metadata": {},
   "outputs": [
    {
     "name": "stdout",
     "output_type": "stream",
     "text": [
      "[mpileup] 1 samples in 1 input files\r\n"
     ]
    }
   ],
   "source": [
    "# Making .mpileup file\n",
    "!samtools mpileup -d 1000000 -f KF848938.1.fasta alignment_sorted.bam > my.mpileup"
   ]
  },
  {
   "cell_type": "code",
   "execution_count": 23,
   "metadata": {},
   "outputs": [
    {
     "name": "stdout",
     "output_type": "stream",
     "text": [
      "Only SNPs will be reported\n",
      "Warning: No p-value threshold provided, so p-values will not be calculated\n",
      "Min coverage:\t8\n",
      "Min reads2:\t2\n",
      "Min var freq:\t0.95\n",
      "Min avg qual:\t15\n",
      "P-value thresh:\t0.01\n",
      "Reading input from my.mpileup\n",
      "1665 bases in pileup file\n",
      "5 variant positions (5 SNP, 0 indel)\n",
      "0 were failed by the strand-filter\n",
      "5 variant positions reported (5 SNP, 0 indel)\n"
     ]
    }
   ],
   "source": [
    "# Variant calling, min-var-freq = 0.95\n",
    "!varscan mpileup2snp my.mpileup --min-var-freq 0.95 --variants --output-vcf 1 > VarScan_results_095.vcf"
   ]
  },
  {
   "cell_type": "code",
   "execution_count": 27,
   "metadata": {},
   "outputs": [
    {
     "name": "stdout",
     "output_type": "stream",
     "text": [
      "KF848938.1 72 A G\r\n",
      "KF848938.1 117 C T\r\n",
      "KF848938.1 774 T C\r\n",
      "KF848938.1 999 C T\r\n",
      "KF848938.1 1260 A C\r\n"
     ]
    }
   ],
   "source": [
    "# gettinng variants from vcf\n",
    "!cat VarScan_results_095.vcf | awk 'NR>24 {print $1, $2, $4, $5}';"
   ]
  },
  {
   "cell_type": "code",
   "execution_count": 25,
   "metadata": {},
   "outputs": [
    {
     "name": "stdout",
     "output_type": "stream",
     "text": [
      "Only SNPs will be reported\n",
      "Warning: No p-value threshold provided, so p-values will not be calculated\n",
      "Min coverage:\t8\n",
      "Min reads2:\t2\n",
      "Min var freq:\t0.001\n",
      "Min avg qual:\t15\n",
      "P-value thresh:\t0.01\n",
      "Reading input from my.mpileup\n",
      "1665 bases in pileup file\n",
      "23 variant positions (21 SNP, 2 indel)\n",
      "0 were failed by the strand-filter\n",
      "21 variant positions reported (21 SNP, 0 indel)\n"
     ]
    }
   ],
   "source": [
    "# Variant calling, min-var-freq = 0.001\n",
    "!varscan mpileup2snp my.mpileup --min-var-freq 0.001 --variants --output-vcf 1 > VarScan_results_0001.vcf"
   ]
  },
  {
   "cell_type": "code",
   "execution_count": 26,
   "metadata": {
    "scrolled": true
   },
   "outputs": [
    {
     "name": "stdout",
     "output_type": "stream",
     "text": [
      "KF848938.1 72 A G\r\n",
      "KF848938.1 117 C T\r\n",
      "KF848938.1 254 A G\r\n",
      "KF848938.1 276 A G\r\n",
      "KF848938.1 307 C T\r\n",
      "KF848938.1 340 T C\r\n",
      "KF848938.1 389 T C\r\n",
      "KF848938.1 691 A G\r\n",
      "KF848938.1 722 A G\r\n",
      "KF848938.1 744 A G\r\n",
      "KF848938.1 774 T C\r\n",
      "KF848938.1 802 A G\r\n",
      "KF848938.1 859 A G\r\n",
      "KF848938.1 915 T C\r\n",
      "KF848938.1 999 C T\r\n",
      "KF848938.1 1043 A G\r\n",
      "KF848938.1 1086 A G\r\n",
      "KF848938.1 1213 A G\r\n",
      "KF848938.1 1260 A C\r\n",
      "KF848938.1 1280 T C\r\n",
      "KF848938.1 1458 T C\r\n"
     ]
    }
   ],
   "source": [
    "# gettinng variants from vcf\n",
    "!cat VarScan_results_0001.vcf | awk 'NR>24 {print $1, $2, $4, $5}';"
   ]
  },
  {
   "cell_type": "code",
   "execution_count": 28,
   "metadata": {},
   "outputs": [
    {
     "name": "stdout",
     "output_type": "stream",
     "text": [
      "Read 256586 spots for SRR1705858\n",
      "Written 256586 spots for SRR1705858\n",
      "Read 233327 spots for SRR1705859\n",
      "Written 233327 spots for SRR1705859\n",
      "Read 249964 spots for SRR1705860\n",
      "Written 249964 spots for SRR1705860\n"
     ]
    }
   ],
   "source": [
    "# downoading 3 more fasta files\n",
    "!fastq-dump SRR1705858 SRR1705859 SRR1705860 "
   ]
  },
  {
   "cell_type": "code",
   "execution_count": 29,
   "metadata": {
    "scrolled": true
   },
   "outputs": [
    {
     "name": "stdout",
     "output_type": "stream",
     "text": [
      "Started analysis of SRR1705858.fastq\n",
      "Approx 5% complete for SRR1705858.fastq\n",
      "Approx 10% complete for SRR1705858.fastq\n",
      "Approx 15% complete for SRR1705858.fastq\n",
      "Approx 20% complete for SRR1705858.fastq\n",
      "Approx 25% complete for SRR1705858.fastq\n",
      "Approx 30% complete for SRR1705858.fastq\n",
      "Approx 35% complete for SRR1705858.fastq\n",
      "Approx 40% complete for SRR1705858.fastq\n",
      "Approx 45% complete for SRR1705858.fastq\n",
      "Approx 50% complete for SRR1705858.fastq\n",
      "Approx 55% complete for SRR1705858.fastq\n",
      "Approx 60% complete for SRR1705858.fastq\n",
      "Approx 65% complete for SRR1705858.fastq\n",
      "Approx 70% complete for SRR1705858.fastq\n",
      "Approx 75% complete for SRR1705858.fastq\n",
      "Approx 80% complete for SRR1705858.fastq\n",
      "Approx 85% complete for SRR1705858.fastq\n",
      "Approx 90% complete for SRR1705858.fastq\n",
      "Approx 95% complete for SRR1705858.fastq\n",
      "Analysis complete for SRR1705858.fastq\n",
      "Started analysis of SRR1705859.fastq\n",
      "Approx 5% complete for SRR1705859.fastq\n",
      "Approx 10% complete for SRR1705859.fastq\n",
      "Approx 15% complete for SRR1705859.fastq\n",
      "Approx 20% complete for SRR1705859.fastq\n",
      "Approx 25% complete for SRR1705859.fastq\n",
      "Approx 30% complete for SRR1705859.fastq\n",
      "Approx 35% complete for SRR1705859.fastq\n",
      "Approx 40% complete for SRR1705859.fastq\n",
      "Approx 45% complete for SRR1705859.fastq\n",
      "Approx 50% complete for SRR1705859.fastq\n",
      "Approx 55% complete for SRR1705859.fastq\n",
      "Approx 60% complete for SRR1705859.fastq\n",
      "Approx 65% complete for SRR1705859.fastq\n",
      "Approx 70% complete for SRR1705859.fastq\n",
      "Approx 75% complete for SRR1705859.fastq\n",
      "Approx 80% complete for SRR1705859.fastq\n",
      "Approx 85% complete for SRR1705859.fastq\n",
      "Approx 90% complete for SRR1705859.fastq\n",
      "Approx 95% complete for SRR1705859.fastq\n",
      "Analysis complete for SRR1705859.fastq\n",
      "Started analysis of SRR1705860.fastq\n",
      "Approx 5% complete for SRR1705860.fastq\n",
      "Approx 10% complete for SRR1705860.fastq\n",
      "Approx 15% complete for SRR1705860.fastq\n",
      "Approx 20% complete for SRR1705860.fastq\n",
      "Approx 25% complete for SRR1705860.fastq\n",
      "Approx 30% complete for SRR1705860.fastq\n",
      "Approx 35% complete for SRR1705860.fastq\n",
      "Approx 40% complete for SRR1705860.fastq\n",
      "Approx 45% complete for SRR1705860.fastq\n",
      "Approx 50% complete for SRR1705860.fastq\n",
      "Approx 55% complete for SRR1705860.fastq\n",
      "Approx 60% complete for SRR1705860.fastq\n",
      "Approx 65% complete for SRR1705860.fastq\n",
      "Approx 70% complete for SRR1705860.fastq\n",
      "Approx 75% complete for SRR1705860.fastq\n",
      "Approx 80% complete for SRR1705860.fastq\n",
      "Approx 85% complete for SRR1705860.fastq\n",
      "Approx 90% complete for SRR1705860.fastq\n",
      "Approx 95% complete for SRR1705860.fastq\n",
      "Analysis complete for SRR1705860.fastq\n"
     ]
    }
   ],
   "source": [
    "# Number of sequences in each:\n",
    "# SRR1705858.fastq - 256586\n",
    "# SRR1705859.fastq - 233327\n",
    "# SRR1705860.fastq - 249964\n",
    "!fastqc -o . SRR1705858.fastq SRR1705859.fastq SRR1705860.fastq"
   ]
  },
  {
   "cell_type": "code",
   "execution_count": 40,
   "metadata": {
    "scrolled": true
   },
   "outputs": [
    {
     "name": "stdout",
     "output_type": "stream",
     "text": [
      "[M::bwa_idx_load_from_disk] read 0 ALT contigs\n",
      "[M::process] read 67448 sequences (10000210 bp)...\n",
      "[M::process] read 67230 sequences (10000094 bp)...\n",
      "[M::mem_process_seqs] Processed 67448 reads in 1.033 CPU sec, 0.975 real sec\n",
      "[M::process] read 67100 sequences (10000113 bp)...\n",
      "[M::mem_process_seqs] Processed 67230 reads in 1.158 CPU sec, 1.062 real sec\n",
      "[M::process] read 54808 sequences (8118313 bp)...\n",
      "[M::mem_process_seqs] Processed 67100 reads in 1.140 CPU sec, 1.052 real sec\n",
      "[M::mem_process_seqs] Processed 54808 reads in 0.980 CPU sec, 0.919 real sec\n",
      "[main] Version: 0.7.17-r1188\n",
      "[main] CMD: bwa mem KF848938.1.fasta SRR1705858.fastq\n",
      "[main] Real time: 4.304 sec; CPU: 4.430 sec\n",
      "[M::bwa_idx_load_from_disk] read 0 ALT contigs\n",
      "[M::process] read 67476 sequences (10000274 bp)...\n",
      "[M::process] read 67236 sequences (10000039 bp)...\n",
      "[M::mem_process_seqs] Processed 67476 reads in 1.030 CPU sec, 0.974 real sec\n",
      "[M::process] read 67216 sequences (10000283 bp)...\n",
      "[M::mem_process_seqs] Processed 67236 reads in 1.139 CPU sec, 1.046 real sec\n",
      "[M::process] read 31399 sequences (4635971 bp)...\n",
      "[M::mem_process_seqs] Processed 67216 reads in 1.104 CPU sec, 1.035 real sec\n",
      "[M::mem_process_seqs] Processed 31399 reads in 0.629 CPU sec, 0.572 real sec\n",
      "[main] Version: 0.7.17-r1188\n",
      "[main] CMD: bwa mem KF848938.1.fasta SRR1705859.fastq\n",
      "[main] Real time: 3.813 sec; CPU: 3.988 sec\n",
      "[M::bwa_idx_load_from_disk] read 0 ALT contigs\n",
      "[M::process] read 67356 sequences (10000126 bp)...\n",
      "[M::process] read 67208 sequences (10000122 bp)...\n",
      "[M::mem_process_seqs] Processed 67356 reads in 1.025 CPU sec, 0.970 real sec\n",
      "[M::process] read 67010 sequences (10000072 bp)...\n",
      "[M::mem_process_seqs] Processed 67208 reads in 1.143 CPU sec, 1.048 real sec\n",
      "[M::process] read 48390 sequences (7170166 bp)...\n",
      "[M::mem_process_seqs] Processed 67010 reads in 1.116 CPU sec, 1.035 real sec\n",
      "[M::mem_process_seqs] Processed 48390 reads in 0.874 CPU sec, 0.822 real sec\n",
      "[main] Version: 0.7.17-r1188\n",
      "[main] CMD: bwa mem KF848938.1.fasta SRR1705860.fastq\n",
      "[main] Real time: 4.125 sec; CPU: 4.254 sec\n"
     ]
    }
   ],
   "source": [
    "# Align reads to reference\n",
    "!bwa mem KF848938.1.fasta SRR1705858.fastq | samtools view -S -b - | samtools sort - -o alignment_sorted_SRR1705858.bam\n",
    "!bwa mem KF848938.1.fasta SRR1705859.fastq | samtools view -S -b - | samtools sort - -o alignment_sorted_SRR1705859.bam\n",
    "!bwa mem KF848938.1.fasta SRR1705860.fastq | samtools view -S -b - | samtools sort - -o alignment_sorted_SRR1705860.bam\n"
   ]
  },
  {
   "cell_type": "code",
   "execution_count": 41,
   "metadata": {},
   "outputs": [],
   "source": [
    "# Indexing .bam files\n",
    "!samtools index alignment_sorted_SRR1705858.bam\n",
    "!samtools index alignment_sorted_SRR1705859.bam\n",
    "!samtools index alignment_sorted_SRR1705860.bam"
   ]
  },
  {
   "cell_type": "code",
   "execution_count": 42,
   "metadata": {},
   "outputs": [
    {
     "name": "stdout",
     "output_type": "stream",
     "text": [
      "[mpileup] 1 samples in 1 input files\n",
      "[mpileup] 1 samples in 1 input files\n",
      "[mpileup] 1 samples in 1 input files\n"
     ]
    }
   ],
   "source": [
    "# Making .mpileup files\n",
    "!samtools mpileup -d 1000000 -f KF848938.1.fasta alignment_sorted_SRR1705858.bam > my_SRR1705858.mpileup\n",
    "!samtools mpileup -d 1000000 -f KF848938.1.fasta alignment_sorted_SRR1705859.bam > my_SRR1705859.mpileup\n",
    "!samtools mpileup -d 1000000 -f KF848938.1.fasta alignment_sorted_SRR1705860.bam > my_SRR1705860.mpileup"
   ]
  },
  {
   "cell_type": "code",
   "execution_count": 43,
   "metadata": {
    "scrolled": true
   },
   "outputs": [
    {
     "name": "stdout",
     "output_type": "stream",
     "text": [
      "Only SNPs will be reported\n",
      "Warning: No p-value threshold provided, so p-values will not be calculated\n",
      "Min coverage:\t8\n",
      "Min reads2:\t2\n",
      "Min var freq:\t0.001\n",
      "Min avg qual:\t15\n",
      "P-value thresh:\t0.01\n",
      "Reading input from my_SRR1705858.mpileup\n",
      "1665 bases in pileup file\n",
      "58 variant positions (58 SNP, 0 indel)\n",
      "1 were failed by the strand-filter\n",
      "57 variant positions reported (57 SNP, 0 indel)\n",
      "Only SNPs will be reported\n",
      "Warning: No p-value threshold provided, so p-values will not be calculated\n",
      "Min coverage:\t8\n",
      "Min reads2:\t2\n",
      "Min var freq:\t0.001\n",
      "Min avg qual:\t15\n",
      "P-value thresh:\t0.01\n",
      "Reading input from my_SRR1705859.mpileup\n",
      "1665 bases in pileup file\n",
      "54 variant positions (54 SNP, 0 indel)\n",
      "2 were failed by the strand-filter\n",
      "52 variant positions reported (52 SNP, 0 indel)\n",
      "Only SNPs will be reported\n",
      "Warning: No p-value threshold provided, so p-values will not be calculated\n",
      "Min coverage:\t8\n",
      "Min reads2:\t2\n",
      "Min var freq:\t0.001\n",
      "Min avg qual:\t15\n",
      "P-value thresh:\t0.01\n",
      "Reading input from my_SRR1705860.mpileup\n",
      "1665 bases in pileup file\n",
      "61 variant positions (61 SNP, 0 indel)\n",
      "0 were failed by the strand-filter\n",
      "61 variant positions reported (61 SNP, 0 indel)\n"
     ]
    }
   ],
   "source": [
    "# Variant calling, min-var-freq = 0.001\n",
    "!varscan mpileup2snp my_SRR1705858.mpileup --min-var-freq 0.001 --variants --output-vcf 1 > VarScan_results_SRR1705858_0001.vcf\n",
    "!varscan mpileup2snp my_SRR1705859.mpileup --min-var-freq 0.001 --variants --output-vcf 1 > VarScan_results_SRR1705859_0001.vcf\n",
    "!varscan mpileup2snp my_SRR1705860.mpileup --min-var-freq 0.001 --variants --output-vcf 1 > VarScan_results_SRR1705860_0001.vcf\n"
   ]
  },
  {
   "cell_type": "code",
   "execution_count": 107,
   "metadata": {
    "scrolled": true
   },
   "outputs": [],
   "source": [
    "# getting position, ref and alt bases and frequencies\n",
    "!cat VarScan_results_SRR1705858_0001.vcf | awk 'NR>24 {split($10, a, \":\"); print $2, $4, $5, substr(a[7], 1, length(a[7])-1)}' > SRR1705858_awk.txt\n",
    "!cat VarScan_results_SRR1705859_0001.vcf | awk 'NR>24 {split($10, a, \":\"); print $2, $4, $5, substr(a[7], 1, length(a[7])-1)}' > SRR1705859_awk.txt\n",
    "!cat VarScan_results_SRR1705860_0001.vcf | awk 'NR>24 {split($10, a, \":\"); print $2, $4, $5, substr(a[7], 1, length(a[7])-1)}' > SRR1705860_awk.txt\n"
   ]
  },
  {
   "cell_type": "code",
   "execution_count": 111,
   "metadata": {},
   "outputs": [],
   "source": [
    "# reading files as datasets to calculate std\n",
    "df58 = pd.read_csv('SRR1705858_awk.txt', sep=' ', header=None, names=['Pos', 'Ref', 'Alt', 'Freq'], decimal=',')\n",
    "df59 = pd.read_csv('SRR1705859_awk.txt', sep=' ', header=None, names=['Pos', 'Ref', 'Alt', 'Freq'], decimal=',')\n",
    "df60 = pd.read_csv('SRR1705860_awk.txt', sep=' ', header=None, names=['Pos', 'Ref', 'Alt', 'Freq'], decimal=',')"
   ]
  },
  {
   "cell_type": "code",
   "execution_count": 121,
   "metadata": {
    "scrolled": true
   },
   "outputs": [
    {
     "data": {
      "text/html": [
       "<div>\n",
       "<style scoped>\n",
       "    .dataframe tbody tr th:only-of-type {\n",
       "        vertical-align: middle;\n",
       "    }\n",
       "\n",
       "    .dataframe tbody tr th {\n",
       "        vertical-align: top;\n",
       "    }\n",
       "\n",
       "    .dataframe thead th {\n",
       "        text-align: right;\n",
       "    }\n",
       "</style>\n",
       "<table border=\"1\" class=\"dataframe\">\n",
       "  <thead>\n",
       "    <tr style=\"text-align: right;\">\n",
       "      <th></th>\n",
       "      <th>Pos</th>\n",
       "      <th>Ref</th>\n",
       "      <th>Alt</th>\n",
       "      <th>Freq</th>\n",
       "    </tr>\n",
       "  </thead>\n",
       "  <tbody>\n",
       "    <tr>\n",
       "      <td>0</td>\n",
       "      <td>38</td>\n",
       "      <td>T</td>\n",
       "      <td>C</td>\n",
       "      <td>0.70</td>\n",
       "    </tr>\n",
       "    <tr>\n",
       "      <td>1</td>\n",
       "      <td>44</td>\n",
       "      <td>T</td>\n",
       "      <td>C</td>\n",
       "      <td>0.50</td>\n",
       "    </tr>\n",
       "    <tr>\n",
       "      <td>17</td>\n",
       "      <td>276</td>\n",
       "      <td>A</td>\n",
       "      <td>G</td>\n",
       "      <td>0.33</td>\n",
       "    </tr>\n",
       "    <tr>\n",
       "      <td>33</td>\n",
       "      <td>670</td>\n",
       "      <td>A</td>\n",
       "      <td>G</td>\n",
       "      <td>0.33</td>\n",
       "    </tr>\n",
       "    <tr>\n",
       "      <td>56</td>\n",
       "      <td>1421</td>\n",
       "      <td>A</td>\n",
       "      <td>G</td>\n",
       "      <td>0.37</td>\n",
       "    </tr>\n",
       "  </tbody>\n",
       "</table>\n",
       "</div>"
      ],
      "text/plain": [
       "     Pos Ref Alt  Freq\n",
       "0     38   T   C  0.70\n",
       "1     44   T   C  0.50\n",
       "17   276   A   G  0.33\n",
       "33   670   A   G  0.33\n",
       "56  1421   A   G  0.37"
      ]
     },
     "execution_count": 121,
     "metadata": {},
     "output_type": "execute_result"
    }
   ],
   "source": [
    "# all changed bases that have freqs greater than mean + std\n",
    "df60.loc[df60.Freq >= (df60.Freq.mean() + df60.Freq.std())]"
   ]
  },
  {
   "cell_type": "code",
   "execution_count": 122,
   "metadata": {
    "scrolled": true
   },
   "outputs": [
    {
     "data": {
      "text/html": [
       "<div>\n",
       "<style scoped>\n",
       "    .dataframe tbody tr th:only-of-type {\n",
       "        vertical-align: middle;\n",
       "    }\n",
       "\n",
       "    .dataframe tbody tr th {\n",
       "        vertical-align: top;\n",
       "    }\n",
       "\n",
       "    .dataframe thead th {\n",
       "        text-align: right;\n",
       "    }\n",
       "</style>\n",
       "<table border=\"1\" class=\"dataframe\">\n",
       "  <thead>\n",
       "    <tr style=\"text-align: right;\">\n",
       "      <th></th>\n",
       "      <th>Pos</th>\n",
       "      <th>Ref</th>\n",
       "      <th>Alt</th>\n",
       "      <th>Freq</th>\n",
       "    </tr>\n",
       "  </thead>\n",
       "  <tbody>\n",
       "    <tr>\n",
       "      <td>0</td>\n",
       "      <td>44</td>\n",
       "      <td>T</td>\n",
       "      <td>C</td>\n",
       "      <td>0.47</td>\n",
       "    </tr>\n",
       "    <tr>\n",
       "      <td>6</td>\n",
       "      <td>218</td>\n",
       "      <td>A</td>\n",
       "      <td>G</td>\n",
       "      <td>0.29</td>\n",
       "    </tr>\n",
       "    <tr>\n",
       "      <td>31</td>\n",
       "      <td>859</td>\n",
       "      <td>A</td>\n",
       "      <td>G</td>\n",
       "      <td>0.29</td>\n",
       "    </tr>\n",
       "    <tr>\n",
       "      <td>46</td>\n",
       "      <td>1460</td>\n",
       "      <td>A</td>\n",
       "      <td>G</td>\n",
       "      <td>0.37</td>\n",
       "    </tr>\n",
       "    <tr>\n",
       "      <td>50</td>\n",
       "      <td>1600</td>\n",
       "      <td>T</td>\n",
       "      <td>C</td>\n",
       "      <td>0.35</td>\n",
       "    </tr>\n",
       "    <tr>\n",
       "      <td>51</td>\n",
       "      <td>1604</td>\n",
       "      <td>T</td>\n",
       "      <td>C</td>\n",
       "      <td>0.31</td>\n",
       "    </tr>\n",
       "  </tbody>\n",
       "</table>\n",
       "</div>"
      ],
      "text/plain": [
       "     Pos Ref Alt  Freq\n",
       "0     44   T   C  0.47\n",
       "6    218   A   G  0.29\n",
       "31   859   A   G  0.29\n",
       "46  1460   A   G  0.37\n",
       "50  1600   T   C  0.35\n",
       "51  1604   T   C  0.31"
      ]
     },
     "execution_count": 122,
     "metadata": {},
     "output_type": "execute_result"
    }
   ],
   "source": [
    "df59.loc[df59.Freq >= (df59.Freq.mean() + df59.Freq.std())]"
   ]
  },
  {
   "cell_type": "code",
   "execution_count": 123,
   "metadata": {
    "scrolled": true
   },
   "outputs": [
    {
     "data": {
      "text/html": [
       "<div>\n",
       "<style scoped>\n",
       "    .dataframe tbody tr th:only-of-type {\n",
       "        vertical-align: middle;\n",
       "    }\n",
       "\n",
       "    .dataframe tbody tr th {\n",
       "        vertical-align: top;\n",
       "    }\n",
       "\n",
       "    .dataframe thead th {\n",
       "        text-align: right;\n",
       "    }\n",
       "</style>\n",
       "<table border=\"1\" class=\"dataframe\">\n",
       "  <thead>\n",
       "    <tr style=\"text-align: right;\">\n",
       "      <th></th>\n",
       "      <th>Pos</th>\n",
       "      <th>Ref</th>\n",
       "      <th>Alt</th>\n",
       "      <th>Freq</th>\n",
       "    </tr>\n",
       "  </thead>\n",
       "  <tbody>\n",
       "    <tr>\n",
       "      <td>0</td>\n",
       "      <td>38</td>\n",
       "      <td>T</td>\n",
       "      <td>C</td>\n",
       "      <td>0.66</td>\n",
       "    </tr>\n",
       "    <tr>\n",
       "      <td>26</td>\n",
       "      <td>595</td>\n",
       "      <td>G</td>\n",
       "      <td>T</td>\n",
       "      <td>0.34</td>\n",
       "    </tr>\n",
       "    <tr>\n",
       "      <td>41</td>\n",
       "      <td>1086</td>\n",
       "      <td>A</td>\n",
       "      <td>G</td>\n",
       "      <td>0.33</td>\n",
       "    </tr>\n",
       "    <tr>\n",
       "      <td>49</td>\n",
       "      <td>1339</td>\n",
       "      <td>T</td>\n",
       "      <td>C</td>\n",
       "      <td>0.41</td>\n",
       "    </tr>\n",
       "    <tr>\n",
       "      <td>53</td>\n",
       "      <td>1460</td>\n",
       "      <td>A</td>\n",
       "      <td>G</td>\n",
       "      <td>0.34</td>\n",
       "    </tr>\n",
       "  </tbody>\n",
       "</table>\n",
       "</div>"
      ],
      "text/plain": [
       "     Pos Ref Alt  Freq\n",
       "0     38   T   C  0.66\n",
       "26   595   G   T  0.34\n",
       "41  1086   A   G  0.33\n",
       "49  1339   T   C  0.41\n",
       "53  1460   A   G  0.34"
      ]
     },
     "execution_count": 123,
     "metadata": {},
     "output_type": "execute_result"
    }
   ],
   "source": [
    "df58.loc[df58.Freq >= (df58.Freq.mean() + df58.Freq.std())]"
   ]
  }
 ],
 "metadata": {
  "kernelspec": {
   "display_name": "Python 3",
   "language": "python",
   "name": "python3"
  },
  "language_info": {
   "codemirror_mode": {
    "name": "ipython",
    "version": 3
   },
   "file_extension": ".py",
   "mimetype": "text/x-python",
   "name": "python",
   "nbconvert_exporter": "python",
   "pygments_lexer": "ipython3",
   "version": "3.6.8"
  }
 },
 "nbformat": 4,
 "nbformat_minor": 2
}
