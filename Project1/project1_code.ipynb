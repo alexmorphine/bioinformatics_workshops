{
 "cells": [
  {
   "cell_type": "code",
   "execution_count": 1,
   "metadata": {
    "scrolled": true
   },
   "outputs": [
    {
     "name": "stdout",
     "output_type": "stream",
     "text": [
      "Started analysis of amp_res_1.fastq\n",
      "Approx 5% complete for amp_res_1.fastq\n",
      "Approx 10% complete for amp_res_1.fastq\n",
      "Approx 15% complete for amp_res_1.fastq\n",
      "Approx 20% complete for amp_res_1.fastq\n",
      "Approx 25% complete for amp_res_1.fastq\n",
      "Approx 30% complete for amp_res_1.fastq\n",
      "Approx 35% complete for amp_res_1.fastq\n",
      "Approx 40% complete for amp_res_1.fastq\n",
      "Approx 45% complete for amp_res_1.fastq\n",
      "Approx 50% complete for amp_res_1.fastq\n",
      "Approx 55% complete for amp_res_1.fastq\n",
      "Approx 60% complete for amp_res_1.fastq\n",
      "Approx 65% complete for amp_res_1.fastq\n",
      "Approx 70% complete for amp_res_1.fastq\n",
      "Approx 75% complete for amp_res_1.fastq\n",
      "Approx 80% complete for amp_res_1.fastq\n",
      "Approx 85% complete for amp_res_1.fastq\n",
      "Approx 90% complete for amp_res_1.fastq\n",
      "Approx 95% complete for amp_res_1.fastq\n",
      "Analysis complete for amp_res_1.fastq\n",
      "Started analysis of amp_res_2.fastq\n",
      "Approx 5% complete for amp_res_2.fastq\n",
      "Approx 10% complete for amp_res_2.fastq\n",
      "Approx 15% complete for amp_res_2.fastq\n",
      "Approx 20% complete for amp_res_2.fastq\n",
      "Approx 25% complete for amp_res_2.fastq\n",
      "Approx 30% complete for amp_res_2.fastq\n",
      "Approx 35% complete for amp_res_2.fastq\n",
      "Approx 40% complete for amp_res_2.fastq\n",
      "Approx 45% complete for amp_res_2.fastq\n",
      "Approx 50% complete for amp_res_2.fastq\n",
      "Approx 55% complete for amp_res_2.fastq\n",
      "Approx 60% complete for amp_res_2.fastq\n",
      "Approx 65% complete for amp_res_2.fastq\n",
      "Approx 70% complete for amp_res_2.fastq\n",
      "Approx 75% complete for amp_res_2.fastq\n",
      "Approx 80% complete for amp_res_2.fastq\n",
      "Approx 85% complete for amp_res_2.fastq\n",
      "Approx 90% complete for amp_res_2.fastq\n",
      "Approx 95% complete for amp_res_2.fastq\n",
      "Analysis complete for amp_res_2.fastq\n"
     ]
    }
   ],
   "source": [
    "# Quality control of the reads\n",
    "!fastqc -o . amp_res_1.fastq amp_res_2.fastq"
   ]
  },
  {
   "cell_type": "code",
   "execution_count": 2,
   "metadata": {},
   "outputs": [
    {
     "name": "stdout",
     "output_type": "stream",
     "text": [
      "TrimmomaticPE: Started with arguments:\n",
      " -phred33 amp_res_1.fastq amp_res_2.fastq amp_res_1_trim.fastq amp_res_1_unpaired.fastq amp_res_2_trim.fastq SLIDINGWINDOW:10:20 LEADING:20 TRAILING:20 MINLEN:20\n",
      "Multiple cores found: Using 4 threads\n",
      "Input Read Pairs: 455876 Both Surviving: 452888 (99,34%) Forward Only Surviving: 2941 (0,65%) Reverse Only Surviving: 41 (0,01%) Dropped: 6 (0,00%)\n",
      "TrimmomaticPE: Completed successfully\n"
     ]
    }
   ],
   "source": [
    "# Trimming low quality reads\n",
    "!trimmomatic PE -phred33 amp_res_1.fastq amp_res_2.fastq amp_res_1_trim.fastq amp_res_1_unpaired.fastq amp_res_2_trim.fastq amp_res_2_unpaired.fastq  SLIDINGWINDOW:10:20 LEADING:20 TRAILING:20 MINLEN:20\n"
   ]
  },
  {
   "cell_type": "code",
   "execution_count": null,
   "metadata": {},
   "outputs": [],
   "source": [
    "!bwa index "
   ]
  },
  {
   "cell_type": "code",
   "execution_count": 5,
   "metadata": {
    "scrolled": true
   },
   "outputs": [
    {
     "name": "stdout",
     "output_type": "stream",
     "text": [
      "[M::bwa_idx_load_from_disk] read 0 ALT contigs\n",
      "[M::process] read 106290 sequences (10000002 bp)...\n",
      "[M::process] read 108208 sequences (10000042 bp)...\n",
      "[M::mem_pestat] # candidate unique pairs for (FF, FR, RF, RR): (9, 51226, 0, 22)\n",
      "[M::mem_pestat] skip orientation FF as there are not enough pairs\n",
      "[M::mem_pestat] analyzing insert size distribution for orientation FR...\n",
      "[M::mem_pestat] (25, 50, 75) percentile: (145, 185, 230)\n",
      "[M::mem_pestat] low and high boundaries for computing mean and std.dev: (1, 400)\n",
      "[M::mem_pestat] mean and std.dev: (189.29, 63.57)\n",
      "[M::mem_pestat] low and high boundaries for proper pairs: (1, 485)\n",
      "[M::mem_pestat] skip orientation RF as there are not enough pairs\n",
      "[M::mem_pestat] analyzing insert size distribution for orientation RR...\n",
      "[M::mem_pestat] (25, 50, 75) percentile: (114, 158, 263)\n",
      "[M::mem_pestat] low and high boundaries for computing mean and std.dev: (1, 561)\n",
      "[M::mem_pestat] mean and std.dev: (131.82, 63.27)\n",
      "[M::mem_pestat] low and high boundaries for proper pairs: (1, 710)\n",
      "[M::mem_pestat] skip orientation RR\n",
      "[M::mem_process_seqs] Processed 106290 reads in 3.711 CPU sec, 3.621 real sec\n",
      "[M::process] read 108830 sequences (10000036 bp)...\n",
      "[M::mem_pestat] # candidate unique pairs for (FF, FR, RF, RR): (20, 51932, 0, 17)\n",
      "[M::mem_pestat] analyzing insert size distribution for orientation FF...\n",
      "[M::mem_pestat] (25, 50, 75) percentile: (80, 107, 210)\n",
      "[M::mem_pestat] low and high boundaries for computing mean and std.dev: (1, 470)\n",
      "[M::mem_pestat] mean and std.dev: (119.00, 69.53)\n",
      "[M::mem_pestat] low and high boundaries for proper pairs: (1, 600)\n",
      "[M::mem_pestat] analyzing insert size distribution for orientation FR...\n",
      "[M::mem_pestat] (25, 50, 75) percentile: (143, 182, 228)\n",
      "[M::mem_pestat] low and high boundaries for computing mean and std.dev: (1, 398)\n",
      "[M::mem_pestat] mean and std.dev: (187.09, 63.02)\n",
      "[M::mem_pestat] low and high boundaries for proper pairs: (1, 483)\n",
      "[M::mem_pestat] skip orientation RF as there are not enough pairs\n",
      "[M::mem_pestat] analyzing insert size distribution for orientation RR...\n",
      "[M::mem_pestat] (25, 50, 75) percentile: (89, 176, 483)\n",
      "[M::mem_pestat] low and high boundaries for computing mean and std.dev: (1, 1271)\n",
      "[M::mem_pestat] mean and std.dev: (169.14, 114.54)\n",
      "[M::mem_pestat] low and high boundaries for proper pairs: (1, 1665)\n",
      "[M::mem_pestat] skip orientation FF\n",
      "[M::mem_pestat] skip orientation RR\n",
      "[M::mem_process_seqs] Processed 108208 reads in 2.869 CPU sec, 2.682 real sec\n",
      "[M::process] read 106008 sequences (10000061 bp)...\n",
      "[M::mem_pestat] # candidate unique pairs for (FF, FR, RF, RR): (11, 52350, 0, 9)\n",
      "[M::mem_pestat] analyzing insert size distribution for orientation FF...\n",
      "[M::mem_pestat] (25, 50, 75) percentile: (100, 135, 178)\n",
      "[M::mem_pestat] low and high boundaries for computing mean and std.dev: (1, 334)\n",
      "[M::mem_pestat] mean and std.dev: (144.00, 71.73)\n",
      "[M::mem_pestat] low and high boundaries for proper pairs: (1, 431)\n",
      "[M::mem_pestat] analyzing insert size distribution for orientation FR...\n",
      "[M::mem_pestat] (25, 50, 75) percentile: (142, 181, 226)\n",
      "[M::mem_pestat] low and high boundaries for computing mean and std.dev: (1, 394)\n",
      "[M::mem_pestat] mean and std.dev: (185.63, 62.35)\n",
      "[M::mem_pestat] low and high boundaries for proper pairs: (1, 478)\n",
      "[M::mem_pestat] skip orientation RF as there are not enough pairs\n",
      "[M::mem_pestat] skip orientation RR as there are not enough pairs\n",
      "[M::mem_pestat] skip orientation FF\n",
      "[M::mem_process_seqs] Processed 108830 reads in 2.646 CPU sec, 2.467 real sec\n",
      "[M::process] read 105838 sequences (10000065 bp)...\n",
      "[M::mem_pestat] # candidate unique pairs for (FF, FR, RF, RR): (13, 51061, 0, 13)\n",
      "[M::mem_pestat] analyzing insert size distribution for orientation FF...\n",
      "[M::mem_pestat] (25, 50, 75) percentile: (84, 104, 199)\n",
      "[M::mem_pestat] low and high boundaries for computing mean and std.dev: (1, 429)\n",
      "[M::mem_pestat] mean and std.dev: (151.77, 93.70)\n",
      "[M::mem_pestat] low and high boundaries for proper pairs: (1, 544)\n",
      "[M::mem_pestat] analyzing insert size distribution for orientation FR...\n",
      "[M::mem_pestat] (25, 50, 75) percentile: (144, 184, 231)\n",
      "[M::mem_pestat] low and high boundaries for computing mean and std.dev: (1, 405)\n",
      "[M::mem_pestat] mean and std.dev: (189.09, 64.12)\n",
      "[M::mem_pestat] low and high boundaries for proper pairs: (1, 492)\n",
      "[M::mem_pestat] skip orientation RF as there are not enough pairs\n",
      "[M::mem_pestat] analyzing insert size distribution for orientation RR...\n",
      "[M::mem_pestat] (25, 50, 75) percentile: (110, 130, 1006)\n",
      "[M::mem_pestat] low and high boundaries for computing mean and std.dev: (1, 2798)\n",
      "[M::mem_pestat] mean and std.dev: (475.38, 646.65)\n",
      "[M::mem_pestat] low and high boundaries for proper pairs: (1, 3694)\n",
      "[M::mem_pestat] skip orientation FF\n",
      "[M::mem_pestat] skip orientation RR\n",
      "[M::mem_process_seqs] Processed 106008 reads in 2.935 CPU sec, 2.766 real sec\n",
      "[M::process] read 106412 sequences (10000181 bp)...\n",
      "[M::mem_pestat] # candidate unique pairs for (FF, FR, RF, RR): (12, 50847, 0, 11)\n",
      "[M::mem_pestat] analyzing insert size distribution for orientation FF...\n",
      "[M::mem_pestat] (25, 50, 75) percentile: (54, 73, 151)\n",
      "[M::mem_pestat] low and high boundaries for computing mean and std.dev: (1, 345)\n",
      "[M::mem_pestat] mean and std.dev: (90.75, 49.78)\n",
      "[M::mem_pestat] low and high boundaries for proper pairs: (1, 442)\n",
      "[M::mem_pestat] analyzing insert size distribution for orientation FR...\n",
      "[M::mem_pestat] (25, 50, 75) percentile: (143, 182, 227)\n",
      "[M::mem_pestat] low and high boundaries for computing mean and std.dev: (1, 395)\n",
      "[M::mem_pestat] mean and std.dev: (186.62, 62.45)\n",
      "[M::mem_pestat] low and high boundaries for proper pairs: (1, 479)\n",
      "[M::mem_pestat] skip orientation RF as there are not enough pairs\n",
      "[M::mem_pestat] analyzing insert size distribution for orientation RR...\n",
      "[M::mem_pestat] (25, 50, 75) percentile: (83, 125, 196)\n",
      "[M::mem_pestat] low and high boundaries for computing mean and std.dev: (1, 422)\n",
      "[M::mem_pestat] mean and std.dev: (118.30, 58.38)\n",
      "[M::mem_pestat] low and high boundaries for proper pairs: (1, 535)\n",
      "[M::mem_pestat] skip orientation FF\n",
      "[M::mem_pestat] skip orientation RR\n",
      "[M::mem_process_seqs] Processed 105838 reads in 3.430 CPU sec, 3.250 real sec\n",
      "[M::process] read 107246 sequences (10000180 bp)...\n",
      "[M::mem_pestat] # candidate unique pairs for (FF, FR, RF, RR): (18, 51171, 0, 16)\n",
      "[M::mem_pestat] analyzing insert size distribution for orientation FF...\n",
      "[M::mem_pestat] (25, 50, 75) percentile: (89, 126, 175)\n",
      "[M::mem_pestat] low and high boundaries for computing mean and std.dev: (1, 347)\n",
      "[M::mem_pestat] mean and std.dev: (122.25, 49.00)\n",
      "[M::mem_pestat] low and high boundaries for proper pairs: (1, 433)\n",
      "[M::mem_pestat] analyzing insert size distribution for orientation FR...\n",
      "[M::mem_pestat] (25, 50, 75) percentile: (144, 183, 229)\n",
      "[M::mem_pestat] low and high boundaries for computing mean and std.dev: (1, 399)\n",
      "[M::mem_pestat] mean and std.dev: (188.23, 63.47)\n",
      "[M::mem_pestat] low and high boundaries for proper pairs: (1, 484)\n",
      "[M::mem_pestat] skip orientation RF as there are not enough pairs\n",
      "[M::mem_pestat] analyzing insert size distribution for orientation RR...\n",
      "[M::mem_pestat] (25, 50, 75) percentile: (52, 105, 220)\n",
      "[M::mem_pestat] low and high boundaries for computing mean and std.dev: (1, 556)\n",
      "[M::mem_pestat] mean and std.dev: (120.33, 80.63)\n",
      "[M::mem_pestat] low and high boundaries for proper pairs: (1, 724)\n",
      "[M::mem_pestat] skip orientation FF\n",
      "[M::mem_pestat] skip orientation RR\n",
      "[M::mem_process_seqs] Processed 106412 reads in 3.657 CPU sec, 3.491 real sec\n",
      "[M::process] read 104380 sequences (10000182 bp)...\n",
      "[M::mem_pestat] # candidate unique pairs for (FF, FR, RF, RR): (11, 51247, 0, 12)\n",
      "[M::mem_pestat] analyzing insert size distribution for orientation FF...\n",
      "[M::mem_pestat] (25, 50, 75) percentile: (54, 90, 172)\n",
      "[M::mem_pestat] low and high boundaries for computing mean and std.dev: (1, 408)\n",
      "[M::mem_pestat] mean and std.dev: (108.73, 60.01)\n",
      "[M::mem_pestat] low and high boundaries for proper pairs: (1, 526)\n",
      "[M::mem_pestat] analyzing insert size distribution for orientation FR...\n",
      "[M::mem_pestat] (25, 50, 75) percentile: (143, 182, 228)\n",
      "[M::mem_pestat] low and high boundaries for computing mean and std.dev: (1, 398)\n",
      "[M::mem_pestat] mean and std.dev: (187.06, 62.87)\n",
      "[M::mem_pestat] low and high boundaries for proper pairs: (1, 483)\n",
      "[M::mem_pestat] skip orientation RF as there are not enough pairs\n",
      "[M::mem_pestat] analyzing insert size distribution for orientation RR...\n",
      "[M::mem_pestat] (25, 50, 75) percentile: (58, 108, 264)\n",
      "[M::mem_pestat] low and high boundaries for computing mean and std.dev: (1, 676)\n",
      "[M::mem_pestat] mean and std.dev: (132.64, 94.62)\n",
      "[M::mem_pestat] low and high boundaries for proper pairs: (1, 882)\n",
      "[M::mem_pestat] skip orientation FF\n",
      "[M::mem_pestat] skip orientation RR\n"
     ]
    },
    {
     "name": "stdout",
     "output_type": "stream",
     "text": [
      "[M::mem_process_seqs] Processed 107246 reads in 3.201 CPU sec, 3.019 real sec\n",
      "[M::process] read 38166 sequences (3590317 bp)...\n",
      "[M::mem_pestat] # candidate unique pairs for (FF, FR, RF, RR): (12, 50331, 0, 10)\n",
      "[M::mem_pestat] analyzing insert size distribution for orientation FF...\n",
      "[M::mem_pestat] (25, 50, 75) percentile: (68, 135, 213)\n",
      "[M::mem_pestat] low and high boundaries for computing mean and std.dev: (1, 503)\n",
      "[M::mem_pestat] mean and std.dev: (120.09, 68.06)\n",
      "[M::mem_pestat] low and high boundaries for proper pairs: (1, 648)\n",
      "[M::mem_pestat] analyzing insert size distribution for orientation FR...\n",
      "[M::mem_pestat] (25, 50, 75) percentile: (143, 183, 229)\n",
      "[M::mem_pestat] low and high boundaries for computing mean and std.dev: (1, 401)\n",
      "[M::mem_pestat] mean and std.dev: (188.26, 63.54)\n",
      "[M::mem_pestat] low and high boundaries for proper pairs: (1, 487)\n",
      "[M::mem_pestat] skip orientation RF as there are not enough pairs\n",
      "[M::mem_pestat] analyzing insert size distribution for orientation RR...\n",
      "[M::mem_pestat] (25, 50, 75) percentile: (102, 140, 152)\n",
      "[M::mem_pestat] low and high boundaries for computing mean and std.dev: (2, 252)\n",
      "[M::mem_pestat] mean and std.dev: (116.11, 42.39)\n",
      "[M::mem_pestat] low and high boundaries for proper pairs: (1, 302)\n",
      "[M::mem_pestat] skip orientation FF\n",
      "[M::mem_pestat] skip orientation RR\n",
      "[M::mem_process_seqs] Processed 104380 reads in 2.746 CPU sec, 2.621 real sec\n",
      "[M::mem_pestat] # candidate unique pairs for (FF, FR, RF, RR): (2, 18244, 0, 4)\n",
      "[M::mem_pestat] skip orientation FF as there are not enough pairs\n",
      "[M::mem_pestat] analyzing insert size distribution for orientation FR...\n",
      "[M::mem_pestat] (25, 50, 75) percentile: (141, 179, 224)\n",
      "[M::mem_pestat] low and high boundaries for computing mean and std.dev: (1, 390)\n",
      "[M::mem_pestat] mean and std.dev: (184.03, 61.45)\n",
      "[M::mem_pestat] low and high boundaries for proper pairs: (1, 473)\n",
      "[M::mem_pestat] skip orientation RF as there are not enough pairs\n",
      "[M::mem_pestat] skip orientation RR as there are not enough pairs\n",
      "[M::mem_process_seqs] Processed 38166 reads in 1.184 CPU sec, 1.056 real sec\n",
      "[main] Version: 0.7.17-r1188\n",
      "[main] CMD: bwa mem reference_genomic.fna amp_res_1_trim.fastq amp_res_2_trim.fastq\n",
      "[main] Real time: 25.139 sec; CPU: 26.548 sec\n"
     ]
    }
   ],
   "source": [
    "# Align reads to reference\n",
    "!bwa mem reference_genomic.fna amp_res_1_trim.fastq amp_res_2_trim.fastq > alignment.sam"
   ]
  },
  {
   "cell_type": "code",
   "execution_count": 7,
   "metadata": {},
   "outputs": [],
   "source": [
    "# Compressing .sam file\n",
    "!samtools view -S -b alignment.sam > alignment.bam"
   ]
  },
  {
   "cell_type": "code",
   "execution_count": 9,
   "metadata": {},
   "outputs": [
    {
     "name": "stdout",
     "output_type": "stream",
     "text": [
      "891635 + 0 in total (QC-passed reads + QC-failed reads)\r\n",
      "0 + 0 secondary\r\n",
      "257 + 0 supplementary\r\n",
      "0 + 0 duplicates\r\n",
      "890569 + 0 mapped (99.88% : N/A)\r\n",
      "891378 + 0 paired in sequencing\r\n",
      "445689 + 0 read1\r\n",
      "445689 + 0 read2\r\n",
      "887530 + 0 properly paired (99.57% : N/A)\r\n",
      "889384 + 0 with itself and mate mapped\r\n",
      "928 + 0 singletons (0.10% : N/A)\r\n",
      "0 + 0 with mate mapped to a different chr\r\n",
      "0 + 0 with mate mapped to a different chr (mapQ>=5)\r\n"
     ]
    }
   ],
   "source": [
    "# Basic statistics\n",
    "!samtools flagstat alignment.bam"
   ]
  },
  {
   "cell_type": "code",
   "execution_count": 15,
   "metadata": {},
   "outputs": [],
   "source": [
    "# Sorting .bam file\n",
    "!samtools sort alignment.bam -o alignment_sorted.bam"
   ]
  },
  {
   "cell_type": "code",
   "execution_count": 10,
   "metadata": {},
   "outputs": [],
   "source": [
    "# Indexing .bam file\n",
    "!samtools index alignment_sorted.bam"
   ]
  },
  {
   "cell_type": "code",
   "execution_count": 11,
   "metadata": {},
   "outputs": [
    {
     "name": "stdout",
     "output_type": "stream",
     "text": [
      "[mpileup] 1 samples in 1 input files\r\n"
     ]
    }
   ],
   "source": [
    "# Making .mpileup file\n",
    "!samtools mpileup -f reference_genomic.fna alignment_sorted.bam > my.mpileup"
   ]
  },
  {
   "cell_type": "code",
   "execution_count": 13,
   "metadata": {},
   "outputs": [
    {
     "name": "stdout",
     "output_type": "stream",
     "text": [
      "Only SNPs will be reported\n",
      "Warning: No p-value threshold provided, so p-values will not be calculated\n",
      "Min coverage:\t8\n",
      "Min reads2:\t2\n",
      "Min var freq:\t0.5\n",
      "Min avg qual:\t15\n",
      "P-value thresh:\t0.01\n",
      "Reading input from my.mpileup\n",
      "4641476 bases in pileup file\n",
      "9 variant positions (6 SNP, 3 indel)\n",
      "1 were failed by the strand-filter\n",
      "5 variant positions reported (5 SNP, 0 indel)\n"
     ]
    }
   ],
   "source": [
    "# Variant calling\n",
    "!varscan mpileup2snp my.mpileup --min-var-freq 0.50 --variants --output-vcf 1 > VarScan_results.vcf"
   ]
  },
  {
   "cell_type": "code",
   "execution_count": 16,
   "metadata": {},
   "outputs": [],
   "source": [
    "# Preparing data for IGV\n",
    "!cp reference_genomic.fna reference_genomic.fasta\n",
    "!samtools faidx reference_genomic.fasta"
   ]
  }
 ],
 "metadata": {
  "kernelspec": {
   "display_name": "Python 3",
   "language": "python",
   "name": "python3"
  },
  "language_info": {
   "codemirror_mode": {
    "name": "ipython",
    "version": 3
   },
   "file_extension": ".py",
   "mimetype": "text/x-python",
   "name": "python",
   "nbconvert_exporter": "python",
   "pygments_lexer": "ipython3",
   "version": "3.6.8"
  }
 },
 "nbformat": 4,
 "nbformat_minor": 2
}
